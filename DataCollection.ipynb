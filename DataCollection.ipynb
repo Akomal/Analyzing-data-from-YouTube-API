{
  "nbformat": 4,
  "nbformat_minor": 0,
  "metadata": {
    "colab": {
      "name": "DataCollection.ipynb",
      "provenance": []
    },
    "kernelspec": {
      "name": "python3",
      "display_name": "Python 3"
    },
    "language_info": {
      "name": "python"
    }
  },
  "cells": [
    {
      "cell_type": "code",
      "metadata": {
        "id": "PEnhztWNueR9"
      },
      "source": [
        "import requests\n",
        "import pandas as pd\n",
        "import time"
      ],
      "execution_count": null,
      "outputs": []
    },
    {
      "cell_type": "code",
      "metadata": {
        "id": "mTxV36e1uw_8"
      },
      "source": [
        "API_key=\"\"\n",
        "channel_id = \"\"\n"
      ],
      "execution_count": null,
      "outputs": []
    },
    {
      "cell_type": "code",
      "metadata": {
        "id": "PL_iZiHMoY7f"
      },
      "source": [
        "def video_stats(video_id):\n",
        "  video_stats = \"https://www.googleapis.com/youtube/v3/videos?id=\"+video_id+\"&part=statistics&key=\"+API_key\n",
        "  res2= requests.get(video_stats).json()\n",
        "  view_count = res2['items'][0]['statistics']['viewCount']\n",
        "  like_count = res2['items'][0]['statistics']['likeCount']\n",
        "  dislike_count = res2['items'][0]['statistics']['dislikeCount']\n",
        "  comment_count = res2['items'][0]['statistics']['commentCount']\n",
        "  return view_count, like_count, dislike_count, comment_count\n"
      ],
      "execution_count": null,
      "outputs": []
    },
    {
      "cell_type": "code",
      "metadata": {
        "id": "apHU3P7D4cg-"
      },
      "source": [
        "def get_videos(data):\n",
        "    pageToken = \"\"\n",
        "    while 1:\n",
        "        url = \"https://www.googleapis.com/youtube/v3/search?key=\"+API_key+\"&channelId=\"+channel_id+\"&part=snippet,id&order=date&maxResults=10000&\"+pageToken\n",
        "\n",
        "        response = requests.get(url).json()\n",
        "        time.sleep(1) #give it a second before starting the for loop\n",
        "        for video in response['items']:\n",
        "            if video['id']['kind'] == \"youtube#video\":\n",
        "                video_id = video['id']['videoId']\n",
        "                video_title = video['snippet']['title']\n",
        "                channel_title = video['snippet']['channelTitle']\n",
        "                \n",
        "                publish_date = video['snippet']['publishedAt']\n",
        "                \n",
        "                view_count, like_count, dislike_count, comment_count = video_stats(video_id)\n",
        "\n",
        "                data = data.append({'video_id':video_id,'video_title':video_title,\"video_channel\":channel_title,\n",
        "                                \"publish_date\":publish_date,\"views\":view_count,\n",
        "                                \"like_count\":like_count,\"dislike_count\":dislike_count,\n",
        "                                \"comments\":comment_count},ignore_index=True)\n",
        "        try:\n",
        "            if response['nextPageToken'] != None: #none means we have reached the last page\n",
        "                pageToken = \"pageToken=\" + response['nextPageToken']\n",
        "\n",
        "        except:\n",
        "            break\n",
        "\n",
        "\n",
        "    return data"
      ],
      "execution_count": null,
      "outputs": []
    },
    {
      "cell_type": "code",
      "metadata": {
        "id": "WA8w1gy7qMZw"
      },
      "source": [
        "#build our dataframe\n",
        "data = pd.DataFrame(columns=[\"video_id\",\"video_title\",\"video_channel\",\"publish_date\",\"views\",\"like_count\",\"dislike_count\",\"comments\"]) \n",
        "\n",
        "data = get_videos(data)"
      ],
      "execution_count": null,
      "outputs": []
    },
    {
      "cell_type": "code",
      "metadata": {
        "id": "qmKNKFgLQvdO",
        "colab": {
          "base_uri": "https://localhost:8080/",
          "height": 17
        },
        "outputId": "866f6d2d-95cd-4afa-d297-141ba0509bd4"
      },
      "source": [
        "#saving data as csv file\n",
        "from google.colab import files\n",
        "data.to_csv('khanacademydataset.csv') \n",
        "files.download(\"khanacademydataset.csv\")"
      ],
      "execution_count": null,
      "outputs": [
        {
          "output_type": "display_data",
          "data": {
            "application/javascript": [
              "\n",
              "    async function download(id, filename, size) {\n",
              "      if (!google.colab.kernel.accessAllowed) {\n",
              "        return;\n",
              "      }\n",
              "      const div = document.createElement('div');\n",
              "      const label = document.createElement('label');\n",
              "      label.textContent = `Downloading \"${filename}\": `;\n",
              "      div.appendChild(label);\n",
              "      const progress = document.createElement('progress');\n",
              "      progress.max = size;\n",
              "      div.appendChild(progress);\n",
              "      document.body.appendChild(div);\n",
              "\n",
              "      const buffers = [];\n",
              "      let downloaded = 0;\n",
              "\n",
              "      const channel = await google.colab.kernel.comms.open(id);\n",
              "      // Send a message to notify the kernel that we're ready.\n",
              "      channel.send({})\n",
              "\n",
              "      for await (const message of channel.messages) {\n",
              "        // Send a message to notify the kernel that we're ready.\n",
              "        channel.send({})\n",
              "        if (message.buffers) {\n",
              "          for (const buffer of message.buffers) {\n",
              "            buffers.push(buffer);\n",
              "            downloaded += buffer.byteLength;\n",
              "            progress.value = downloaded;\n",
              "          }\n",
              "        }\n",
              "      }\n",
              "      const blob = new Blob(buffers, {type: 'application/binary'});\n",
              "      const a = document.createElement('a');\n",
              "      a.href = window.URL.createObjectURL(blob);\n",
              "      a.download = filename;\n",
              "      div.appendChild(a);\n",
              "      a.click();\n",
              "      div.remove();\n",
              "    }\n",
              "  "
            ],
            "text/plain": [
              "<IPython.core.display.Javascript object>"
            ]
          },
          "metadata": {
            "tags": []
          }
        },
        {
          "output_type": "display_data",
          "data": {
            "application/javascript": [
              "download(\"download_7cf75302-f68b-49a8-81d8-a13449257756\", \"khanacademydataset.csv\", 68269)"
            ],
            "text/plain": [
              "<IPython.core.display.Javascript object>"
            ]
          },
          "metadata": {
            "tags": []
          }
        }
      ]
    }
  ]
}